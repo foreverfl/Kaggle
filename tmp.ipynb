{
 "cells": [
  {
   "cell_type": "code",
   "execution_count": 3,
   "id": "e41bc80c-833e-47ed-b01a-f38c23c17f5c",
   "metadata": {},
   "outputs": [],
   "source": [
    "# !pip install selenium"
   ]
  },
  {
   "cell_type": "code",
   "execution_count": 39,
   "id": "10188b9a-5663-430e-addb-b36768ee0078",
   "metadata": {},
   "outputs": [],
   "source": [
    "import time\n",
    "import requests\n",
    "import re\n",
    "\n",
    "from selenium import webdriver\n",
    "from selenium.webdriver.common.by import By\n",
    "from selenium.webdriver.common.keys import Keys\n",
    "from selenium.webdriver.support.ui import WebDriverWait\n",
    "from bs4 import BeautifulSoup\n",
    "import pandas as pd"
   ]
  },
  {
   "cell_type": "markdown",
   "id": "674b1e97-8dc7-4fcb-99e2-3dfb4e31eae6",
   "metadata": {},
   "source": [
    "## 페이지 가져오기"
   ]
  },
  {
   "cell_type": "code",
   "execution_count": 6,
   "id": "f5479d12-1997-427e-b206-df1def994bf1",
   "metadata": {},
   "outputs": [
    {
     "name": "stdout",
     "output_type": "stream",
     "text": [
      "19\n",
      "442\n",
      "https://www.youtube.com/watch?v=Zt52lXF3O8A\n",
      "https://www.youtube.com/watch?v=UiwmFtfIHLU\n",
      "https://www.youtube.com/watch?v=JVBi4FVrboQ\n",
      "https://www.youtube.com/watch?v=nI1o12gVPgc\n",
      "https://www.youtube.com/watch?v=68ejByrDlzg\n",
      "https://www.youtube.com/watch?v=pwRLFHa7n68\n",
      "https://www.youtube.com/watch?v=wyphXsNerg8\n",
      "https://www.youtube.com/watch?v=e-Cj6mdOse4\n",
      "https://www.youtube.com/watch?v=pFo49JRu-xE\n",
      "https://www.youtube.com/watch?v=AOrEb9MNASI\n"
     ]
    }
   ],
   "source": [
    "channel_link = 'https://www.youtube.com/@RawFishEater/videos'\n",
    "driver = webdriver.Chrome()\n",
    "driver.get(channel_link)\n",
    "\n",
    "# 영상 링크 배열에 저장하기\n",
    "video_links = set()\n",
    "scroll_count = 0\n",
    "\n",
    "for _ in range(19):  # 20으로 설정해야함\n",
    "    driver.find_element(By.TAG_NAME, \"body\").send_keys(Keys.END)\n",
    "    time.sleep(1)\n",
    "    scroll_count += 1\n",
    "\n",
    "    videos = driver.find_elements(By.CSS_SELECTOR, '#thumbnail')\n",
    "    for video in videos:\n",
    "        href = video.get_attribute('href')\n",
    "        if href:\n",
    "            video_links.add(href)\n",
    "\n",
    "print(scroll_count)\n",
    "print(len(video_links))\n",
    "\n",
    "for i, link in enumerate(video_links):\n",
    "    if i < 10:\n",
    "        print(link)\n",
    "    else:\n",
    "        break"
   ]
  },
  {
   "cell_type": "code",
   "execution_count": 9,
   "id": "dbbefb5f-02e0-421f-97a6-c0382df17615",
   "metadata": {},
   "outputs": [],
   "source": [
    "# # 배열에 저장한 영상 링크에 접속하기\n",
    "# for link in video_links:\n",
    "#     print(link)"
   ]
  },
  {
   "cell_type": "code",
   "execution_count": 40,
   "id": "05444ba6-8846-47f5-b3b0-38ed23d9a212",
   "metadata": {},
   "outputs": [
    {
     "name": "stdout",
     "output_type": "stream",
     "text": [
      "줄거리 : 서비스로 손님을 사로 잡는 숙성회 전문점\n",
      "\n",
      "*식당정보\n",
      "- 식당명 : 무스비\n",
      "- 식당위치 : 경기 안양시 동안구 인덕원로 12 1층 103호 무스비\n",
      "- 전화번호 : 0507-1427-0726\n",
      "- 영업시간 : 18:00-01:00 일요일 휴무, 10/31 휴무\n",
      "- 리뷰 메뉴 : 숙성회 2인(38,000원), 라구나스텐(20,000원), 탄탄 니꾸우동(17,000원)\n",
      "\n",
      "#회사랑 #인덕원맛집 #무스비 #숙성회 #웨이팅\n",
      "음악\n",
      "노래 3곡\n",
      "Drag Race\n",
      "TrackTribe\n",
      "Drag Race\n",
      "Jazz Organ Trio Cool Blue\n",
      "Doug Maxwell/Media Right Productions\n",
      "Jazz Organ Trio Cool Blue\n",
      "Bluesed and Abused\n",
      "Quincas Moreira\n",
      "Bluesed and Abused\n",
      "음악\n",
      "스크립트\n",
      "스크립트를 보면서 시청하세요.\n",
      "스크립트 표시\n",
      "회사랑RawFishEater\n",
      "구독자 22.8만명\n",
      "동영상\n",
      "정보\n",
      "간략히\n",
      "******************************\n",
      "\n",
      "- 식당명 : 무스비\n",
      "- 식당위치 : 경기 안양시 동안구 인덕원로 12 1층 103호 무스비\n",
      "- 전화번호 : 0507-1427-0726\n",
      "- 영업시간 : 18:00-01:00 일요일 휴무, 10/31 휴무\n",
      "- 리뷰 메뉴 : 숙성회 2인(38,000원), 라구나스텐(20,000원), 탄탄 니꾸우동(17,000원)\n",
      "\n",
      "#회사랑 #인덕원맛집 #무스비 #숙성회 #웨이팅\n",
      "음악\n",
      "노래 3곡\n",
      "Drag Race\n",
      "TrackTribe\n",
      "Drag Race\n",
      "Jazz Organ Trio Cool Blue\n",
      "Doug Maxwell/Media Right Productions\n",
      "Jazz Organ Trio Cool Blue\n",
      "Bluesed and Abused\n",
      "Quincas Moreira\n",
      "Bluesed and Abused\n",
      "음악\n",
      "스크립트\n",
      "스크립트를 보면서 시청하세요.\n",
      "스크립트 표시\n",
      "회사랑RawFishEater\n",
      "구독자 22.8만명\n",
      "동영상\n",
      "정보\n",
      "간략히\n"
     ]
    }
   ],
   "source": [
    "tmp_driver = webdriver.Chrome()\n",
    "tmp_driver.get('https://www.youtube.com/watch?v=SUhtMdjjsAc&t=782s')\n",
    "tmp_driver.implicitly_wait(3)\n",
    "\n",
    "expand_button = tmp_driver.find_element(By.ID, \"expand\")\n",
    "expand_button.click()\n",
    "    \n",
    "description = tmp_driver.find_element(By.CSS_SELECTOR, \"#description-inline-expander\")\n",
    "text = description.text\n",
    "print(text)\n",
    "print('*' * 30)\n",
    "\n",
    "restaurant_info = re.search(r'\\*식당정보(.*?)(?=\\n\\*|\\Z)', text, re.DOTALL)\n",
    "\n",
    "# 추출된 정보 출력\n",
    "if restaurant_info:\n",
    "    print(restaurant_info.group(1))\n",
    "else:\n",
    "    print(\"식당 정보를 찾을 수 없습니다.\")"
   ]
  },
  {
   "cell_type": "code",
   "execution_count": null,
   "id": "ad601f83-7a05-47b2-ae98-73760b832dd7",
   "metadata": {},
   "outputs": [],
   "source": [
    "\n",
    "\n",
    "# 영상 링크에서 식당 정보 추출해서 DataFrame에 저장하기\n",
    "\n",
    "# 저장한 DataFrame을 정렬하고 csv 파일로 만들기"
   ]
  }
 ],
 "metadata": {
  "kernelspec": {
   "display_name": "Python 3 (ipykernel)",
   "language": "python",
   "name": "python3"
  },
  "language_info": {
   "codemirror_mode": {
    "name": "ipython",
    "version": 3
   },
   "file_extension": ".py",
   "mimetype": "text/x-python",
   "name": "python",
   "nbconvert_exporter": "python",
   "pygments_lexer": "ipython3",
   "version": "3.10.9"
  }
 },
 "nbformat": 4,
 "nbformat_minor": 5
}
